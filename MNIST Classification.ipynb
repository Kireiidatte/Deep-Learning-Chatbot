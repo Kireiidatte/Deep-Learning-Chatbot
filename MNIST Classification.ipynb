{
 "cells": [
  {
   "cell_type": "code",
   "execution_count": 1,
   "id": "354577fc",
   "metadata": {},
   "outputs": [],
   "source": [
    "import tensorflow as tf\n",
    "import matplotlib.pyplot as plt\n",
    "from tensorflow.keras.datasets import mnist\n",
    "from tensorflow.keras.models import Sequential\n",
    "from tensorflow.keras.layers import Flatten, Dense"
   ]
  },
  {
   "cell_type": "code",
   "execution_count": 2,
   "id": "02e86ebc",
   "metadata": {},
   "outputs": [
    {
     "name": "stdout",
     "output_type": "stream",
     "text": [
      "Downloading data from https://storage.googleapis.com/tensorflow/tf-keras-datasets/mnist.npz\n",
      "11493376/11490434 [==============================] - 1s 0us/step\n",
      "Epoch 1/10\n",
      "2100/2100 [==============================] - 3s 1ms/step - loss: 0.9111 - accuracy: 0.7297 - val_loss: 0.4055 - val_accuracy: 0.8842\n",
      "Epoch 2/10\n",
      "2100/2100 [==============================] - 3s 1ms/step - loss: 0.3713 - accuracy: 0.8931 - val_loss: 0.3180 - val_accuracy: 0.9093\n",
      "Epoch 3/10\n",
      "2100/2100 [==============================] - 3s 1ms/step - loss: 0.3163 - accuracy: 0.9091 - val_loss: 0.2929 - val_accuracy: 0.9165\n",
      "Epoch 4/10\n",
      "2100/2100 [==============================] - 3s 1ms/step - loss: 0.2858 - accuracy: 0.9174 - val_loss: 0.2719 - val_accuracy: 0.9212\n",
      "Epoch 5/10\n",
      "2100/2100 [==============================] - 3s 1ms/step - loss: 0.2636 - accuracy: 0.9235 - val_loss: 0.2452 - val_accuracy: 0.9284\n",
      "Epoch 6/10\n",
      "2100/2100 [==============================] - 3s 1ms/step - loss: 0.2395 - accuracy: 0.9302 - val_loss: 0.2226 - val_accuracy: 0.9359\n",
      "Epoch 7/10\n",
      "2100/2100 [==============================] - 3s 1ms/step - loss: 0.2207 - accuracy: 0.9358 - val_loss: 0.2235 - val_accuracy: 0.9356\n",
      "Epoch 8/10\n",
      "2100/2100 [==============================] - 3s 1ms/step - loss: 0.2070 - accuracy: 0.9412 - val_loss: 0.2048 - val_accuracy: 0.9392\n",
      "Epoch 9/10\n",
      "2100/2100 [==============================] - 3s 1ms/step - loss: 0.1936 - accuracy: 0.9430 - val_loss: 0.1911 - val_accuracy: 0.9437\n",
      "Epoch 10/10\n",
      "2100/2100 [==============================] - 3s 1ms/step - loss: 0.1815 - accuracy: 0.9468 - val_loss: 0.1824 - val_accuracy: 0.9464\n",
      "모델 평가\n",
      "313/313 [==============================] - 0s 1ms/step - loss: 0.1885 - accuracy: 0.9444\n",
      "Model: \"sequential\"\n",
      "_________________________________________________________________\n",
      "Layer (type)                 Output Shape              Param #   \n",
      "=================================================================\n",
      "flatten (Flatten)            (None, 784)               0         \n",
      "_________________________________________________________________\n",
      "dense (Dense)                (None, 20)                15700     \n",
      "_________________________________________________________________\n",
      "dense_1 (Dense)              (None, 20)                420       \n",
      "_________________________________________________________________\n",
      "dense_2 (Dense)              (None, 10)                210       \n",
      "=================================================================\n",
      "Total params: 16,330\n",
      "Trainable params: 16,330\n",
      "Non-trainable params: 0\n",
      "_________________________________________________________________\n"
     ]
    },
    {
     "data": {
      "image/png": "[encoded data removed]",
      "text/plain": [
       "<Figure size 432x288 with 2 Axes>"
      ]
     },
     "metadata": {
      "needs_background": "light"
     },
     "output_type": "display_data"
    }
   ],
   "source": [
    "# MNIST 데이터셋 가져오기\n",
    "(x_train, y_train), (x_test, y_test) = mnist.load_data()\n",
    "x_train, x_test = x_train / 255.0, x_test / 255.0 # 데이터 정규화\n",
    "\n",
    "# tf.data를 사용해서 데이터셋을 섞고 배치 만들기\n",
    "ds = tf.data.Dataset.from_tensor_slices((x_train, y_train)).shuffle(10000)\n",
    "train_size = int(len(x_train) * 0.7) # 학습셋 : 검증셋 = 7:3\n",
    "train_ds = ds.take(train_size).batch(20)\n",
    "val_ds = ds.skip(train_size).batch(20)\n",
    "\n",
    "# MNIST분류 모델 구성\n",
    "model = Sequential()\n",
    "model.add(Flatten(input_shape=(28,28)))\n",
    "model.add(Dense(20, activation='relu'))\n",
    "model.add(Dense(20, activation='relu'))\n",
    "model.add(Dense(10, activation='softmax'))\n",
    "\n",
    "# 모델 생성\n",
    "model.compile(loss='sparse_categorical_crossentropy', optimizer='sgd', metrics=['accuracy'])\n",
    "\n",
    "# 모델 학습\n",
    "hist = model.fit(train_ds, validation_data=val_ds, epochs=10)\n",
    "\n",
    "# 모델 평가\n",
    "print('모델 평가')\n",
    "model.evaluate(x_test, y_test)\n",
    "\n",
    "# 모델 정보 출력\n",
    "model.summary()\n",
    "\n",
    "# 모델 저장\n",
    "model.save('mnist_model.h5')\n",
    "\n",
    "# 학습 결과 그래프 그리기\n",
    "fig, loss_ax = plt.subplots()\n",
    "acc_ax = loss_ax.twinx()\n",
    "\n",
    "loss_ax.plot(hist.history['loss'], 'y', label='train loss')\n",
    "loss_ax.plot(hist.history['val_loss'], 'r', label='val loss')\n",
    "\n",
    "acc_ax.plot(hist.history['accuracy'], 'b', label='train acc')\n",
    "acc_ax.plot(hist.history['val_accuracy'], 'g', label='val acc')\n",
    "\n",
    "loss_ax.set_xlabel('epoch')\n",
    "loss_ax.set_ylabel('loss')\n",
    "\n",
    "acc_ax.set_ylabel('accuracy')\n",
    "\n",
    "loss_ax.legend(loc='upper left')\n",
    "acc_ax.legend(loc='lower left')\n",
    "plt.show()"
   ]
  },
  {
   "cell_type": "markdown",
   "id": "54762b99",
   "metadata": {},
   "source": [
    "## 학습된 딥러닝 모델 사용하기"
   ]
  },
  {
   "cell_type": "code",
   "execution_count": 4,
   "id": "886a98c5",
   "metadata": {},
   "outputs": [
    {
     "name": "stdout",
     "output_type": "stream",
     "text": [
      "Model: \"sequential\"\n",
      "_________________________________________________________________\n",
      "Layer (type)                 Output Shape              Param #   \n",
      "=================================================================\n",
      "flatten (Flatten)            (None, 784)               0         \n",
      "_________________________________________________________________\n",
      "dense (Dense)                (None, 20)                15700     \n",
      "_________________________________________________________________\n",
      "dense_1 (Dense)              (None, 20)                420       \n",
      "_________________________________________________________________\n",
      "dense_2 (Dense)              (None, 10)                210       \n",
      "=================================================================\n",
      "Total params: 16,330\n",
      "Trainable params: 16,330\n",
      "Non-trainable params: 0\n",
      "_________________________________________________________________\n",
      "313/313 - 0s - loss: 0.1885 - accuracy: 0.9444\n"
     ]
    },
    {
     "data": {
      "image/png": "[encoded data removed]",
      "text/plain": [
       "<Figure size 432x288 with 1 Axes>"
      ]
     },
     "metadata": {
      "needs_background": "light"
     },
     "output_type": "display_data"
    },
    {
     "name": "stdout",
     "output_type": "stream",
     "text": [
      "손글씨 이미지 예측값 :  [6]\n"
     ]
    }
   ],
   "source": [
    "from tensorflow.keras.datasets import mnist\n",
    "from tensorflow.keras.models import load_model\n",
    "import matplotlib.pyplot as plt\n",
    "\n",
    "# MNIST 데이터셋 가져오기\n",
    "_, (x_test, y_test) = mnist.load_data()\n",
    "x_test = x_test / 255.0 # 데이터 정규화\n",
    "\n",
    "# 모델 불러오기\n",
    "model = load_model('mnist_model.h5')\n",
    "model.summary()\n",
    "model.evaluate(x_test, y_test, verbose=2)\n",
    "\n",
    "# 테스트셋에서 100번째 이미지 출력\n",
    "plt.imshow(x_test[100], cmap='gray')\n",
    "plt.show()\n",
    "\n",
    "# 테스트셋의 100번째 이미지 클래스 분류\n",
    "picks = [100]\n",
    "predict = model.predict_classes(x_test[picks])\n",
    "print('손글씨 이미지 예측값 : ', predict)"
   ]
  }
 ],
 "metadata": {
  "kernelspec": {
   "display_name": "Python 3",
   "language": "python",
   "name": "python3"
  },
  "language_info": {
   "codemirror_mode": {
    "name": "ipython",
    "version": 3
   },
   "file_extension": ".py",
   "mimetype": "text/x-python",
   "name": "python",
   "nbconvert_exporter": "python",
   "pygments_lexer": "ipython3",
   "version": "3.8.8"
  }
 },
 "nbformat": 4,
 "nbformat_minor": 5
}
